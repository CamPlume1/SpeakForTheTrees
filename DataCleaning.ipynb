{
 "cells": [
  {
   "cell_type": "code",
   "execution_count": 132,
   "id": "02a75cbd",
   "metadata": {
    "pycharm": {
     "name": "#%%\n"
    }
   },
   "outputs": [],
   "source": [
    "import pandas as pd\n",
    "trees = pd.read_csv('trees.csv')"
   ]
  },
  {
   "cell_type": "code",
   "execution_count": 133,
   "id": "5f057710",
   "metadata": {
    "pycharm": {
     "name": "#%%\n"
    }
   },
   "outputs": [],
   "source": [
    "heat = pd.read_csv('Heat.csv')"
   ]
  },
  {
   "cell_type": "code",
   "execution_count": 134,
   "id": "3ee6a91c",
   "metadata": {
    "pycharm": {
     "name": "#%%\n"
    }
   },
   "outputs": [
    {
     "data": {
      "text/plain": "Index(['FID', 'ID', 'NAME', 'ST_ABBREV', 'TC_ID', 'Shape_Leng', 'OBJECTID',\n       'Total_A', 'Can_A', 'Grass_A', 'Soil_A', 'Water_A', 'Build_A', 'Road_A',\n       'Paved_A', 'Perv_A', 'Imperv_A', 'Can_P', 'Grass_P', 'Soil_P',\n       'Water_P', 'Build_P', 'Road_P', 'Paved_P', 'Perv_P', 'Imperv_P',\n       'OBJECTID_1', 'TC_ID_12', 'VALUE_0', 'TC_E_A', 'TC_Pv_A', 'TC_Land_A',\n       'TC_Pi_A', 'TC_P_A', 'TC_E_P', 'TC_Pv_P', 'TC_P_P', 'TC_Pi_P',\n       'Shape__Area', 'Shape__Length'],\n      dtype='object')"
     },
     "execution_count": 134,
     "metadata": {},
     "output_type": "execute_result"
    }
   ],
   "source": [
    "trees.columns"
   ]
  },
  {
   "cell_type": "code",
   "execution_count": 135,
   "id": "bb26001f",
   "metadata": {
    "pycharm": {
     "name": "#%%\n"
    }
   },
   "outputs": [],
   "source": [
    "trees = trees.drop(['Shape_Leng', 'OBJECTID',\n",
    "       'Total_A', 'Can_A', 'Grass_A', 'Soil_A', 'Water_A', 'Build_A', 'Road_A',\n",
    "       'Paved_A', 'Perv_A', 'Imperv_A', 'Can_P', 'Grass_P', 'Soil_P',\n",
    "       'Water_P', 'Build_P', 'Road_P', 'Paved_P', 'Perv_P', 'Imperv_P',\n",
    "       'OBJECTID_1', 'TC_ID_12', 'VALUE_0', 'TC_E_A', 'TC_Pv_A', 'TC_Land_A',\n",
    "       'TC_Pi_A', 'TC_P_A', 'TC_Pv_P', \n",
    "       'Shape__Area', 'Shape__Length'], axis = 1)"
   ]
  },
  {
   "cell_type": "code",
   "execution_count": 136,
   "id": "c01f1c65",
   "metadata": {
    "pycharm": {
     "name": "#%%\n"
    }
   },
   "outputs": [
    {
     "data": {
      "text/plain": "Index(['FID', 'ID', 'NAME', 'ST_ABBREV', 'TC_ID', 'TC_E_P', 'TC_P_P',\n       'TC_Pi_P'],\n      dtype='object')"
     },
     "execution_count": 136,
     "metadata": {},
     "output_type": "execute_result"
    }
   ],
   "source": [
    "trees.columns"
   ]
  },
  {
   "cell_type": "code",
   "execution_count": 137,
   "id": "3058bc5a",
   "metadata": {
    "pycharm": {
     "name": "#%%\n"
    }
   },
   "outputs": [],
   "source": [
    "trees.columns = ['FID', 'ID', 'NAME', 'ST_ABBREV', 'TC_ID', 'Existing Canopy', 'Possible Canopy Percentage', 'Possible Impervious Canopy Percentage']"
   ]
  },
  {
   "cell_type": "code",
   "execution_count": 138,
   "id": "1d566014",
   "metadata": {
    "pycharm": {
     "name": "#%%\n"
    }
   },
   "outputs": [
    {
     "data": {
      "text/plain": "     FID           ID          NAME ST_ABBREV  TC_ID  Existing Canopy  \\\n0      1  25017342400  2.501734e+08        MA      1        23.025841   \n1      2  25017350103  2.501735e+08        MA      2         0.987414   \n2      3  25017350104  2.501735e+08        MA      3         0.000000   \n3      4  25017351403  2.501735e+08        MA      4        15.085379   \n4      5  25017351404  2.501735e+08        MA      5         0.000000   \n..   ...          ...           ...       ...    ...              ...   \n206  207  25025981501  2.502598e+08        MA    207        39.508615   \n207  208  25025981502  2.502598e+08        MA    208        15.124716   \n208  209  25025981600  2.502598e+08        MA    209         9.732682   \n209  210  25025981700  2.502598e+08        MA    210        39.451426   \n210  211  25025981800  2.502598e+08        MA    211        60.111403   \n\n     Possible Canopy Percentage  Possible Impervious Canopy Percentage  \n0                     76.800924                              63.519561  \n1                     47.212343                              38.928136  \n2                      0.000000                               0.000000  \n3                     42.433734                              31.908659  \n4                      0.000000                               0.000000  \n..                          ...                                    ...  \n206                   34.956152                              13.371171  \n207                   73.228514                              38.885691  \n208                   88.060410                               4.582282  \n209                   50.839747                              17.390037  \n210                   31.515219                               9.521435  \n\n[211 rows x 8 columns]",
      "text/html": "<div>\n<style scoped>\n    .dataframe tbody tr th:only-of-type {\n        vertical-align: middle;\n    }\n\n    .dataframe tbody tr th {\n        vertical-align: top;\n    }\n\n    .dataframe thead th {\n        text-align: right;\n    }\n</style>\n<table border=\"1\" class=\"dataframe\">\n  <thead>\n    <tr style=\"text-align: right;\">\n      <th></th>\n      <th>FID</th>\n      <th>ID</th>\n      <th>NAME</th>\n      <th>ST_ABBREV</th>\n      <th>TC_ID</th>\n      <th>Existing Canopy</th>\n      <th>Possible Canopy Percentage</th>\n      <th>Possible Impervious Canopy Percentage</th>\n    </tr>\n  </thead>\n  <tbody>\n    <tr>\n      <th>0</th>\n      <td>1</td>\n      <td>25017342400</td>\n      <td>2.501734e+08</td>\n      <td>MA</td>\n      <td>1</td>\n      <td>23.025841</td>\n      <td>76.800924</td>\n      <td>63.519561</td>\n    </tr>\n    <tr>\n      <th>1</th>\n      <td>2</td>\n      <td>25017350103</td>\n      <td>2.501735e+08</td>\n      <td>MA</td>\n      <td>2</td>\n      <td>0.987414</td>\n      <td>47.212343</td>\n      <td>38.928136</td>\n    </tr>\n    <tr>\n      <th>2</th>\n      <td>3</td>\n      <td>25017350104</td>\n      <td>2.501735e+08</td>\n      <td>MA</td>\n      <td>3</td>\n      <td>0.000000</td>\n      <td>0.000000</td>\n      <td>0.000000</td>\n    </tr>\n    <tr>\n      <th>3</th>\n      <td>4</td>\n      <td>25017351403</td>\n      <td>2.501735e+08</td>\n      <td>MA</td>\n      <td>4</td>\n      <td>15.085379</td>\n      <td>42.433734</td>\n      <td>31.908659</td>\n    </tr>\n    <tr>\n      <th>4</th>\n      <td>5</td>\n      <td>25017351404</td>\n      <td>2.501735e+08</td>\n      <td>MA</td>\n      <td>5</td>\n      <td>0.000000</td>\n      <td>0.000000</td>\n      <td>0.000000</td>\n    </tr>\n    <tr>\n      <th>...</th>\n      <td>...</td>\n      <td>...</td>\n      <td>...</td>\n      <td>...</td>\n      <td>...</td>\n      <td>...</td>\n      <td>...</td>\n      <td>...</td>\n    </tr>\n    <tr>\n      <th>206</th>\n      <td>207</td>\n      <td>25025981501</td>\n      <td>2.502598e+08</td>\n      <td>MA</td>\n      <td>207</td>\n      <td>39.508615</td>\n      <td>34.956152</td>\n      <td>13.371171</td>\n    </tr>\n    <tr>\n      <th>207</th>\n      <td>208</td>\n      <td>25025981502</td>\n      <td>2.502598e+08</td>\n      <td>MA</td>\n      <td>208</td>\n      <td>15.124716</td>\n      <td>73.228514</td>\n      <td>38.885691</td>\n    </tr>\n    <tr>\n      <th>208</th>\n      <td>209</td>\n      <td>25025981600</td>\n      <td>2.502598e+08</td>\n      <td>MA</td>\n      <td>209</td>\n      <td>9.732682</td>\n      <td>88.060410</td>\n      <td>4.582282</td>\n    </tr>\n    <tr>\n      <th>209</th>\n      <td>210</td>\n      <td>25025981700</td>\n      <td>2.502598e+08</td>\n      <td>MA</td>\n      <td>210</td>\n      <td>39.451426</td>\n      <td>50.839747</td>\n      <td>17.390037</td>\n    </tr>\n    <tr>\n      <th>210</th>\n      <td>211</td>\n      <td>25025981800</td>\n      <td>2.502598e+08</td>\n      <td>MA</td>\n      <td>211</td>\n      <td>60.111403</td>\n      <td>31.515219</td>\n      <td>9.521435</td>\n    </tr>\n  </tbody>\n</table>\n<p>211 rows × 8 columns</p>\n</div>"
     },
     "execution_count": 138,
     "metadata": {},
     "output_type": "execute_result"
    }
   ],
   "source": [
    "trees"
   ]
  },
  {
   "cell_type": "code",
   "execution_count": 139,
   "id": "777409bd",
   "metadata": {
    "pycharm": {
     "name": "#%%\n"
    }
   },
   "outputs": [
    {
     "data": {
      "text/plain": "     FID           ID          NAME ST_ABBREV  TC_ID    Shape_Leng  OBJECTID  \\\n0      1  25017342400  2.501734e+08        MA      1   1561.643072         1   \n1      2  25017350103  2.501735e+08        MA      2   3873.245327         2   \n2      3  25017350104  2.501735e+08        MA      3    363.457910         3   \n3      4  25017351403  2.501735e+08        MA      4   1893.664748         4   \n4      5  25017351404  2.501735e+08        MA      5    186.413187         5   \n..   ...          ...           ...       ...    ...           ...       ...   \n206  207  25025981501  2.502598e+08        MA    207  89186.324372       207   \n207  208  25025981502  2.502598e+08        MA    208  13376.521540       208   \n208  209  25025981600  2.502598e+08        MA    209  20801.087917       209   \n209  210  25025981700  2.502598e+08        MA    210   7926.989925       210   \n210  211  25025981800  2.502598e+08        MA    211  42834.082481       211   \n\n     Mean_am_T_  Mean_am_HI  Mean_p2_T_  Mean_p2_HI  Mean_ev_T_  Mean_ev_HI  \\\n0     76.482974   77.751982   91.487592   96.114964   85.962991   91.129861   \n1     76.919924   78.148220   92.117761   97.142557   85.983757   91.714299   \n2     76.828968   77.992563   91.643324   96.959633   86.001442   91.861055   \n3     76.654550   77.877502   91.767997   97.197172   86.533602   91.889832   \n4     76.930857   78.128606   92.116076   96.653943   85.993484   91.292666   \n..          ...         ...         ...         ...         ...         ...   \n206   75.247745   76.488506   91.126121   96.232216   85.301352   90.283886   \n207   74.536921   75.753470   91.479643   95.924464   85.133247   90.008815   \n208   75.323162   76.517198   89.958079   95.623551   84.231902   88.514125   \n209   76.681061   78.009545   92.327713   97.838895   86.035625   91.227994   \n210   74.675025   75.983460   90.495435   95.238229   83.846813   87.803371   \n\n      Shape__Area  Shape__Length  \n0    7.041688e+03    1561.643071  \n1    6.233939e+04    3873.245327  \n2    4.886585e+03     363.457910  \n3    2.970868e+04    1893.664748  \n4    1.499376e+03     186.413187  \n..            ...            ...  \n206  8.884743e+06   89186.324372  \n207  4.895811e+06   13376.521540  \n208  6.454931e+06   20801.087917  \n209  3.520802e+06    7926.989925  \n210  1.095762e+07   42834.082481  \n\n[211 rows x 15 columns]",
      "text/html": "<div>\n<style scoped>\n    .dataframe tbody tr th:only-of-type {\n        vertical-align: middle;\n    }\n\n    .dataframe tbody tr th {\n        vertical-align: top;\n    }\n\n    .dataframe thead th {\n        text-align: right;\n    }\n</style>\n<table border=\"1\" class=\"dataframe\">\n  <thead>\n    <tr style=\"text-align: right;\">\n      <th></th>\n      <th>FID</th>\n      <th>ID</th>\n      <th>NAME</th>\n      <th>ST_ABBREV</th>\n      <th>TC_ID</th>\n      <th>Shape_Leng</th>\n      <th>OBJECTID</th>\n      <th>Mean_am_T_</th>\n      <th>Mean_am_HI</th>\n      <th>Mean_p2_T_</th>\n      <th>Mean_p2_HI</th>\n      <th>Mean_ev_T_</th>\n      <th>Mean_ev_HI</th>\n      <th>Shape__Area</th>\n      <th>Shape__Length</th>\n    </tr>\n  </thead>\n  <tbody>\n    <tr>\n      <th>0</th>\n      <td>1</td>\n      <td>25017342400</td>\n      <td>2.501734e+08</td>\n      <td>MA</td>\n      <td>1</td>\n      <td>1561.643072</td>\n      <td>1</td>\n      <td>76.482974</td>\n      <td>77.751982</td>\n      <td>91.487592</td>\n      <td>96.114964</td>\n      <td>85.962991</td>\n      <td>91.129861</td>\n      <td>7.041688e+03</td>\n      <td>1561.643071</td>\n    </tr>\n    <tr>\n      <th>1</th>\n      <td>2</td>\n      <td>25017350103</td>\n      <td>2.501735e+08</td>\n      <td>MA</td>\n      <td>2</td>\n      <td>3873.245327</td>\n      <td>2</td>\n      <td>76.919924</td>\n      <td>78.148220</td>\n      <td>92.117761</td>\n      <td>97.142557</td>\n      <td>85.983757</td>\n      <td>91.714299</td>\n      <td>6.233939e+04</td>\n      <td>3873.245327</td>\n    </tr>\n    <tr>\n      <th>2</th>\n      <td>3</td>\n      <td>25017350104</td>\n      <td>2.501735e+08</td>\n      <td>MA</td>\n      <td>3</td>\n      <td>363.457910</td>\n      <td>3</td>\n      <td>76.828968</td>\n      <td>77.992563</td>\n      <td>91.643324</td>\n      <td>96.959633</td>\n      <td>86.001442</td>\n      <td>91.861055</td>\n      <td>4.886585e+03</td>\n      <td>363.457910</td>\n    </tr>\n    <tr>\n      <th>3</th>\n      <td>4</td>\n      <td>25017351403</td>\n      <td>2.501735e+08</td>\n      <td>MA</td>\n      <td>4</td>\n      <td>1893.664748</td>\n      <td>4</td>\n      <td>76.654550</td>\n      <td>77.877502</td>\n      <td>91.767997</td>\n      <td>97.197172</td>\n      <td>86.533602</td>\n      <td>91.889832</td>\n      <td>2.970868e+04</td>\n      <td>1893.664748</td>\n    </tr>\n    <tr>\n      <th>4</th>\n      <td>5</td>\n      <td>25017351404</td>\n      <td>2.501735e+08</td>\n      <td>MA</td>\n      <td>5</td>\n      <td>186.413187</td>\n      <td>5</td>\n      <td>76.930857</td>\n      <td>78.128606</td>\n      <td>92.116076</td>\n      <td>96.653943</td>\n      <td>85.993484</td>\n      <td>91.292666</td>\n      <td>1.499376e+03</td>\n      <td>186.413187</td>\n    </tr>\n    <tr>\n      <th>...</th>\n      <td>...</td>\n      <td>...</td>\n      <td>...</td>\n      <td>...</td>\n      <td>...</td>\n      <td>...</td>\n      <td>...</td>\n      <td>...</td>\n      <td>...</td>\n      <td>...</td>\n      <td>...</td>\n      <td>...</td>\n      <td>...</td>\n      <td>...</td>\n      <td>...</td>\n    </tr>\n    <tr>\n      <th>206</th>\n      <td>207</td>\n      <td>25025981501</td>\n      <td>2.502598e+08</td>\n      <td>MA</td>\n      <td>207</td>\n      <td>89186.324372</td>\n      <td>207</td>\n      <td>75.247745</td>\n      <td>76.488506</td>\n      <td>91.126121</td>\n      <td>96.232216</td>\n      <td>85.301352</td>\n      <td>90.283886</td>\n      <td>8.884743e+06</td>\n      <td>89186.324372</td>\n    </tr>\n    <tr>\n      <th>207</th>\n      <td>208</td>\n      <td>25025981502</td>\n      <td>2.502598e+08</td>\n      <td>MA</td>\n      <td>208</td>\n      <td>13376.521540</td>\n      <td>208</td>\n      <td>74.536921</td>\n      <td>75.753470</td>\n      <td>91.479643</td>\n      <td>95.924464</td>\n      <td>85.133247</td>\n      <td>90.008815</td>\n      <td>4.895811e+06</td>\n      <td>13376.521540</td>\n    </tr>\n    <tr>\n      <th>208</th>\n      <td>209</td>\n      <td>25025981600</td>\n      <td>2.502598e+08</td>\n      <td>MA</td>\n      <td>209</td>\n      <td>20801.087917</td>\n      <td>209</td>\n      <td>75.323162</td>\n      <td>76.517198</td>\n      <td>89.958079</td>\n      <td>95.623551</td>\n      <td>84.231902</td>\n      <td>88.514125</td>\n      <td>6.454931e+06</td>\n      <td>20801.087917</td>\n    </tr>\n    <tr>\n      <th>209</th>\n      <td>210</td>\n      <td>25025981700</td>\n      <td>2.502598e+08</td>\n      <td>MA</td>\n      <td>210</td>\n      <td>7926.989925</td>\n      <td>210</td>\n      <td>76.681061</td>\n      <td>78.009545</td>\n      <td>92.327713</td>\n      <td>97.838895</td>\n      <td>86.035625</td>\n      <td>91.227994</td>\n      <td>3.520802e+06</td>\n      <td>7926.989925</td>\n    </tr>\n    <tr>\n      <th>210</th>\n      <td>211</td>\n      <td>25025981800</td>\n      <td>2.502598e+08</td>\n      <td>MA</td>\n      <td>211</td>\n      <td>42834.082481</td>\n      <td>211</td>\n      <td>74.675025</td>\n      <td>75.983460</td>\n      <td>90.495435</td>\n      <td>95.238229</td>\n      <td>83.846813</td>\n      <td>87.803371</td>\n      <td>1.095762e+07</td>\n      <td>42834.082481</td>\n    </tr>\n  </tbody>\n</table>\n<p>211 rows × 15 columns</p>\n</div>"
     },
     "execution_count": 139,
     "metadata": {},
     "output_type": "execute_result"
    }
   ],
   "source": [
    "heat"
   ]
  },
  {
   "cell_type": "code",
   "execution_count": 140,
   "id": "59c6b99a",
   "metadata": {
    "pycharm": {
     "name": "#%%\n"
    }
   },
   "outputs": [],
   "source": [
    "result = pd.merge(heat, trees, on='FID')"
   ]
  },
  {
   "cell_type": "code",
   "execution_count": 141,
   "id": "e7119f0e",
   "metadata": {
    "pycharm": {
     "name": "#%%\n"
    }
   },
   "outputs": [
    {
     "data": {
      "text/plain": "Index(['FID', 'ID_x', 'NAME_x', 'ST_ABBREV_x', 'TC_ID_x', 'Shape_Leng',\n       'OBJECTID', 'Mean_am_T_', 'Mean_am_HI', 'Mean_p2_T_', 'Mean_p2_HI',\n       'Mean_ev_T_', 'Mean_ev_HI', 'Shape__Area', 'Shape__Length', 'ID_y',\n       'NAME_y', 'ST_ABBREV_y', 'TC_ID_y', 'Existing Canopy',\n       'Possible Canopy Percentage', 'Possible Impervious Canopy Percentage'],\n      dtype='object')"
     },
     "execution_count": 141,
     "metadata": {},
     "output_type": "execute_result"
    }
   ],
   "source": [
    "result.columns"
   ]
  },
  {
   "cell_type": "code",
   "execution_count": 142,
   "id": "71aa5efd",
   "metadata": {
    "pycharm": {
     "name": "#%%\n"
    }
   },
   "outputs": [],
   "source": [
    "result.drop(['ID_y', 'NAME_y', 'ST_ABBREV_y'], axis = 1, inplace = True)"
   ]
  },
  {
   "cell_type": "markdown",
   "id": "bfa75bc7",
   "metadata": {
    "pycharm": {
     "name": "#%% md\n"
    }
   },
   "source": [
    "Drop Null Values"
   ]
  },
  {
   "cell_type": "code",
   "execution_count": 143,
   "id": "f84e3218",
   "metadata": {
    "pycharm": {
     "name": "#%%\n"
    }
   },
   "outputs": [],
   "source": [
    "result = result[result['Mean_am_T_'] != 0]"
   ]
  },
  {
   "cell_type": "code",
   "execution_count": 144,
   "id": "ec802d32",
   "metadata": {
    "pycharm": {
     "name": "#%%\n"
    }
   },
   "outputs": [
    {
     "data": {
      "text/plain": "Index(['FID', 'ID_x', 'NAME_x', 'ST_ABBREV_x', 'TC_ID_x', 'Shape_Leng',\n       'OBJECTID', 'Mean_am_T_', 'Mean_am_HI', 'Mean_p2_T_', 'Mean_p2_HI',\n       'Mean_ev_T_', 'Mean_ev_HI', 'Shape__Area', 'Shape__Length', 'TC_ID_y',\n       'Existing Canopy', 'Possible Canopy Percentage',\n       'Possible Impervious Canopy Percentage'],\n      dtype='object')"
     },
     "execution_count": 144,
     "metadata": {},
     "output_type": "execute_result"
    }
   ],
   "source": [
    "result.columns"
   ]
  },
  {
   "cell_type": "code",
   "execution_count": 145,
   "id": "93faa1a7",
   "metadata": {
    "pycharm": {
     "name": "#%%\n"
    }
   },
   "outputs": [],
   "source": [
    "result.drop(['TC_ID_x', 'Shape_Leng'], axis= 1, inplace = True)"
   ]
  },
  {
   "cell_type": "code",
   "execution_count": 146,
   "id": "120c2fb4",
   "metadata": {
    "pycharm": {
     "name": "#%%\n"
    }
   },
   "outputs": [],
   "source": [
    "neighborhoods = pd.read_csv(\"canopy_area.csv\")"
   ]
  },
  {
   "cell_type": "code",
   "execution_count": 147,
   "id": "06552168",
   "metadata": {
    "pycharm": {
     "name": "#%%\n"
    }
   },
   "outputs": [
    {
     "data": {
      "text/plain": "   Unnamed: 0           ID  Total Neighborhood  Existing_Canopy  \\\n0           0  25017342400   7039      Everett             1595   \n1           1  25017350103  62338   Somerville              608   \n2           2  25017350104   4887   Somerville                0   \n3           3  25017351403  29720   Somerville             4479   \n4           4  25017351404   1501   Somerville                0   \n\n   Potential_Canopy  Impossible_Canopy  Existing_Percent  Potential_Percent  \\\n0              5320                124         22.659469          75.578917   \n1             29071              32659          0.975328          46.634477   \n2                 0               4887          0.000000           0.000000   \n3             12599              12642         15.070659          42.392328   \n4                 0               1501          0.000000           0.000000   \n\n   Impossible_Percent  \n0            1.761614  \n1           52.390195  \n2          100.000000  \n3           42.537012  \n4          100.000000  ",
      "text/html": "<div>\n<style scoped>\n    .dataframe tbody tr th:only-of-type {\n        vertical-align: middle;\n    }\n\n    .dataframe tbody tr th {\n        vertical-align: top;\n    }\n\n    .dataframe thead th {\n        text-align: right;\n    }\n</style>\n<table border=\"1\" class=\"dataframe\">\n  <thead>\n    <tr style=\"text-align: right;\">\n      <th></th>\n      <th>Unnamed: 0</th>\n      <th>ID</th>\n      <th>Total</th>\n      <th>Neighborhood</th>\n      <th>Existing_Canopy</th>\n      <th>Potential_Canopy</th>\n      <th>Impossible_Canopy</th>\n      <th>Existing_Percent</th>\n      <th>Potential_Percent</th>\n      <th>Impossible_Percent</th>\n    </tr>\n  </thead>\n  <tbody>\n    <tr>\n      <th>0</th>\n      <td>0</td>\n      <td>25017342400</td>\n      <td>7039</td>\n      <td>Everett</td>\n      <td>1595</td>\n      <td>5320</td>\n      <td>124</td>\n      <td>22.659469</td>\n      <td>75.578917</td>\n      <td>1.761614</td>\n    </tr>\n    <tr>\n      <th>1</th>\n      <td>1</td>\n      <td>25017350103</td>\n      <td>62338</td>\n      <td>Somerville</td>\n      <td>608</td>\n      <td>29071</td>\n      <td>32659</td>\n      <td>0.975328</td>\n      <td>46.634477</td>\n      <td>52.390195</td>\n    </tr>\n    <tr>\n      <th>2</th>\n      <td>2</td>\n      <td>25017350104</td>\n      <td>4887</td>\n      <td>Somerville</td>\n      <td>0</td>\n      <td>0</td>\n      <td>4887</td>\n      <td>0.000000</td>\n      <td>0.000000</td>\n      <td>100.000000</td>\n    </tr>\n    <tr>\n      <th>3</th>\n      <td>3</td>\n      <td>25017351403</td>\n      <td>29720</td>\n      <td>Somerville</td>\n      <td>4479</td>\n      <td>12599</td>\n      <td>12642</td>\n      <td>15.070659</td>\n      <td>42.392328</td>\n      <td>42.537012</td>\n    </tr>\n    <tr>\n      <th>4</th>\n      <td>4</td>\n      <td>25017351404</td>\n      <td>1501</td>\n      <td>Somerville</td>\n      <td>0</td>\n      <td>0</td>\n      <td>1501</td>\n      <td>0.000000</td>\n      <td>0.000000</td>\n      <td>100.000000</td>\n    </tr>\n  </tbody>\n</table>\n</div>"
     },
     "execution_count": 147,
     "metadata": {},
     "output_type": "execute_result"
    }
   ],
   "source": [
    "neighborhoods.head()"
   ]
  },
  {
   "cell_type": "code",
   "execution_count": 148,
   "outputs": [
    {
     "data": {
      "text/plain": "Index(['Unnamed: 0', 'ID', 'Total', 'Neighborhood', 'Existing_Canopy',\n       'Potential_Canopy', 'Impossible_Canopy', 'Existing_Percent',\n       'Potential_Percent', 'Impossible_Percent'],\n      dtype='object')"
     },
     "execution_count": 148,
     "metadata": {},
     "output_type": "execute_result"
    }
   ],
   "source": [
    "neighborhoods.columns"
   ],
   "metadata": {
    "collapsed": false,
    "pycharm": {
     "name": "#%%\n"
    }
   }
  },
  {
   "cell_type": "code",
   "execution_count": 149,
   "outputs": [],
   "source": [
    "neighborhoods.drop(['Unnamed: 0', 'Total',\n",
    "       'Potential_Canopy', 'Existing_Canopy', 'Impossible_Canopy',\n",
    "       'Potential_Percent', 'Impossible_Percent'], axis = 1, inplace=True)"
   ],
   "metadata": {
    "collapsed": false,
    "pycharm": {
     "name": "#%%\n"
    }
   }
  },
  {
   "cell_type": "code",
   "execution_count": 150,
   "outputs": [
    {
     "data": {
      "text/plain": "            ID Neighborhood  Existing_Percent\n0  25017342400      Everett         22.659469\n1  25017350103   Somerville          0.975328\n2  25017350104   Somerville          0.000000\n3  25017351403   Somerville         15.070659\n4  25017351404   Somerville          0.000000",
      "text/html": "<div>\n<style scoped>\n    .dataframe tbody tr th:only-of-type {\n        vertical-align: middle;\n    }\n\n    .dataframe tbody tr th {\n        vertical-align: top;\n    }\n\n    .dataframe thead th {\n        text-align: right;\n    }\n</style>\n<table border=\"1\" class=\"dataframe\">\n  <thead>\n    <tr style=\"text-align: right;\">\n      <th></th>\n      <th>ID</th>\n      <th>Neighborhood</th>\n      <th>Existing_Percent</th>\n    </tr>\n  </thead>\n  <tbody>\n    <tr>\n      <th>0</th>\n      <td>25017342400</td>\n      <td>Everett</td>\n      <td>22.659469</td>\n    </tr>\n    <tr>\n      <th>1</th>\n      <td>25017350103</td>\n      <td>Somerville</td>\n      <td>0.975328</td>\n    </tr>\n    <tr>\n      <th>2</th>\n      <td>25017350104</td>\n      <td>Somerville</td>\n      <td>0.000000</td>\n    </tr>\n    <tr>\n      <th>3</th>\n      <td>25017351403</td>\n      <td>Somerville</td>\n      <td>15.070659</td>\n    </tr>\n    <tr>\n      <th>4</th>\n      <td>25017351404</td>\n      <td>Somerville</td>\n      <td>0.000000</td>\n    </tr>\n  </tbody>\n</table>\n</div>"
     },
     "execution_count": 150,
     "metadata": {},
     "output_type": "execute_result"
    }
   ],
   "source": [
    "neighborhoods.head()"
   ],
   "metadata": {
    "collapsed": false,
    "pycharm": {
     "name": "#%%\n"
    }
   }
  },
  {
   "cell_type": "code",
   "execution_count": 151,
   "outputs": [],
   "source": [
    "neighborhoods.columns = [\"ID_x\", \"Neighborhood\", \"Existing_Percent\"]"
   ],
   "metadata": {
    "collapsed": false,
    "pycharm": {
     "name": "#%%\n"
    }
   }
  },
  {
   "cell_type": "code",
   "execution_count": 152,
   "outputs": [
    {
     "data": {
      "text/plain": "   FID         ID_x        NAME_x ST_ABBREV_x  OBJECTID  Mean_am_T_  \\\n0    1  25017342400  2.501734e+08          MA         1   76.482974   \n1    2  25017350103  2.501735e+08          MA         2   76.919924   \n2    3  25017350104  2.501735e+08          MA         3   76.828968   \n3    4  25017351403  2.501735e+08          MA         4   76.654550   \n4    5  25017351404  2.501735e+08          MA         5   76.930857   \n\n   Mean_am_HI  Mean_p2_T_  Mean_p2_HI  Mean_ev_T_  Mean_ev_HI   Shape__Area  \\\n0   77.751982   91.487592   96.114964   85.962991   91.129861   7041.688232   \n1   78.148220   92.117761   97.142557   85.983757   91.714299  62339.388916   \n2   77.992563   91.643324   96.959633   86.001442   91.861055   4886.584961   \n3   77.877502   91.767997   97.197172   86.533602   91.889832  29708.675049   \n4   78.128606   92.116076   96.653943   85.993484   91.292666   1499.375977   \n\n   Shape__Length  TC_ID_y  Existing Canopy  Possible Canopy Percentage  \\\n0    1561.643071        1        23.025841                   76.800924   \n1    3873.245327        2         0.987414                   47.212343   \n2     363.457910        3         0.000000                    0.000000   \n3    1893.664748        4        15.085379                   42.433734   \n4     186.413187        5         0.000000                    0.000000   \n\n   Possible Impervious Canopy Percentage  \n0                              63.519561  \n1                              38.928136  \n2                               0.000000  \n3                              31.908659  \n4                               0.000000  ",
      "text/html": "<div>\n<style scoped>\n    .dataframe tbody tr th:only-of-type {\n        vertical-align: middle;\n    }\n\n    .dataframe tbody tr th {\n        vertical-align: top;\n    }\n\n    .dataframe thead th {\n        text-align: right;\n    }\n</style>\n<table border=\"1\" class=\"dataframe\">\n  <thead>\n    <tr style=\"text-align: right;\">\n      <th></th>\n      <th>FID</th>\n      <th>ID_x</th>\n      <th>NAME_x</th>\n      <th>ST_ABBREV_x</th>\n      <th>OBJECTID</th>\n      <th>Mean_am_T_</th>\n      <th>Mean_am_HI</th>\n      <th>Mean_p2_T_</th>\n      <th>Mean_p2_HI</th>\n      <th>Mean_ev_T_</th>\n      <th>Mean_ev_HI</th>\n      <th>Shape__Area</th>\n      <th>Shape__Length</th>\n      <th>TC_ID_y</th>\n      <th>Existing Canopy</th>\n      <th>Possible Canopy Percentage</th>\n      <th>Possible Impervious Canopy Percentage</th>\n    </tr>\n  </thead>\n  <tbody>\n    <tr>\n      <th>0</th>\n      <td>1</td>\n      <td>25017342400</td>\n      <td>2.501734e+08</td>\n      <td>MA</td>\n      <td>1</td>\n      <td>76.482974</td>\n      <td>77.751982</td>\n      <td>91.487592</td>\n      <td>96.114964</td>\n      <td>85.962991</td>\n      <td>91.129861</td>\n      <td>7041.688232</td>\n      <td>1561.643071</td>\n      <td>1</td>\n      <td>23.025841</td>\n      <td>76.800924</td>\n      <td>63.519561</td>\n    </tr>\n    <tr>\n      <th>1</th>\n      <td>2</td>\n      <td>25017350103</td>\n      <td>2.501735e+08</td>\n      <td>MA</td>\n      <td>2</td>\n      <td>76.919924</td>\n      <td>78.148220</td>\n      <td>92.117761</td>\n      <td>97.142557</td>\n      <td>85.983757</td>\n      <td>91.714299</td>\n      <td>62339.388916</td>\n      <td>3873.245327</td>\n      <td>2</td>\n      <td>0.987414</td>\n      <td>47.212343</td>\n      <td>38.928136</td>\n    </tr>\n    <tr>\n      <th>2</th>\n      <td>3</td>\n      <td>25017350104</td>\n      <td>2.501735e+08</td>\n      <td>MA</td>\n      <td>3</td>\n      <td>76.828968</td>\n      <td>77.992563</td>\n      <td>91.643324</td>\n      <td>96.959633</td>\n      <td>86.001442</td>\n      <td>91.861055</td>\n      <td>4886.584961</td>\n      <td>363.457910</td>\n      <td>3</td>\n      <td>0.000000</td>\n      <td>0.000000</td>\n      <td>0.000000</td>\n    </tr>\n    <tr>\n      <th>3</th>\n      <td>4</td>\n      <td>25017351403</td>\n      <td>2.501735e+08</td>\n      <td>MA</td>\n      <td>4</td>\n      <td>76.654550</td>\n      <td>77.877502</td>\n      <td>91.767997</td>\n      <td>97.197172</td>\n      <td>86.533602</td>\n      <td>91.889832</td>\n      <td>29708.675049</td>\n      <td>1893.664748</td>\n      <td>4</td>\n      <td>15.085379</td>\n      <td>42.433734</td>\n      <td>31.908659</td>\n    </tr>\n    <tr>\n      <th>4</th>\n      <td>5</td>\n      <td>25017351404</td>\n      <td>2.501735e+08</td>\n      <td>MA</td>\n      <td>5</td>\n      <td>76.930857</td>\n      <td>78.128606</td>\n      <td>92.116076</td>\n      <td>96.653943</td>\n      <td>85.993484</td>\n      <td>91.292666</td>\n      <td>1499.375977</td>\n      <td>186.413187</td>\n      <td>5</td>\n      <td>0.000000</td>\n      <td>0.000000</td>\n      <td>0.000000</td>\n    </tr>\n  </tbody>\n</table>\n</div>"
     },
     "execution_count": 152,
     "metadata": {},
     "output_type": "execute_result"
    }
   ],
   "source": [
    "result.head()"
   ],
   "metadata": {
    "collapsed": false,
    "pycharm": {
     "name": "#%%\n"
    }
   }
  },
  {
   "cell_type": "code",
   "execution_count": 153,
   "outputs": [
    {
     "data": {
      "text/plain": "          ID_x Neighborhood  Existing_Percent\n0  25017342400      Everett         22.659469\n1  25017350103   Somerville          0.975328\n2  25017350104   Somerville          0.000000\n3  25017351403   Somerville         15.070659\n4  25017351404   Somerville          0.000000",
      "text/html": "<div>\n<style scoped>\n    .dataframe tbody tr th:only-of-type {\n        vertical-align: middle;\n    }\n\n    .dataframe tbody tr th {\n        vertical-align: top;\n    }\n\n    .dataframe thead th {\n        text-align: right;\n    }\n</style>\n<table border=\"1\" class=\"dataframe\">\n  <thead>\n    <tr style=\"text-align: right;\">\n      <th></th>\n      <th>ID_x</th>\n      <th>Neighborhood</th>\n      <th>Existing_Percent</th>\n    </tr>\n  </thead>\n  <tbody>\n    <tr>\n      <th>0</th>\n      <td>25017342400</td>\n      <td>Everett</td>\n      <td>22.659469</td>\n    </tr>\n    <tr>\n      <th>1</th>\n      <td>25017350103</td>\n      <td>Somerville</td>\n      <td>0.975328</td>\n    </tr>\n    <tr>\n      <th>2</th>\n      <td>25017350104</td>\n      <td>Somerville</td>\n      <td>0.000000</td>\n    </tr>\n    <tr>\n      <th>3</th>\n      <td>25017351403</td>\n      <td>Somerville</td>\n      <td>15.070659</td>\n    </tr>\n    <tr>\n      <th>4</th>\n      <td>25017351404</td>\n      <td>Somerville</td>\n      <td>0.000000</td>\n    </tr>\n  </tbody>\n</table>\n</div>"
     },
     "execution_count": 153,
     "metadata": {},
     "output_type": "execute_result"
    }
   ],
   "source": [
    "neighborhoods.head()"
   ],
   "metadata": {
    "collapsed": false,
    "pycharm": {
     "name": "#%%\n"
    }
   }
  },
  {
   "cell_type": "code",
   "execution_count": 154,
   "outputs": [],
   "source": [
    "final = pd.merge(neighborhoods, result, on='ID_x')"
   ],
   "metadata": {
    "collapsed": false,
    "pycharm": {
     "name": "#%%\n"
    }
   }
  },
  {
   "cell_type": "code",
   "execution_count": 155,
   "outputs": [
    {
     "data": {
      "text/plain": "          ID_x Neighborhood  Existing_Percent  FID        NAME_x ST_ABBREV_x  \\\n0  25017342400      Everett         22.659469    1  2.501734e+08          MA   \n1  25017350103   Somerville          0.975328    2  2.501735e+08          MA   \n2  25017350104   Somerville          0.000000    3  2.501735e+08          MA   \n3  25017351403   Somerville         15.070659    4  2.501735e+08          MA   \n4  25017351404   Somerville          0.000000    5  2.501735e+08          MA   \n\n   OBJECTID  Mean_am_T_  Mean_am_HI  Mean_p2_T_  Mean_p2_HI  Mean_ev_T_  \\\n0         1   76.482974   77.751982   91.487592   96.114964   85.962991   \n1         2   76.919924   78.148220   92.117761   97.142557   85.983757   \n2         3   76.828968   77.992563   91.643324   96.959633   86.001442   \n3         4   76.654550   77.877502   91.767997   97.197172   86.533602   \n4         5   76.930857   78.128606   92.116076   96.653943   85.993484   \n\n   Mean_ev_HI   Shape__Area  Shape__Length  TC_ID_y  Existing Canopy  \\\n0   91.129861   7041.688232    1561.643071        1        23.025841   \n1   91.714299  62339.388916    3873.245327        2         0.987414   \n2   91.861055   4886.584961     363.457910        3         0.000000   \n3   91.889832  29708.675049    1893.664748        4        15.085379   \n4   91.292666   1499.375977     186.413187        5         0.000000   \n\n   Possible Canopy Percentage  Possible Impervious Canopy Percentage  \n0                   76.800924                              63.519561  \n1                   47.212343                              38.928136  \n2                    0.000000                               0.000000  \n3                   42.433734                              31.908659  \n4                    0.000000                               0.000000  ",
      "text/html": "<div>\n<style scoped>\n    .dataframe tbody tr th:only-of-type {\n        vertical-align: middle;\n    }\n\n    .dataframe tbody tr th {\n        vertical-align: top;\n    }\n\n    .dataframe thead th {\n        text-align: right;\n    }\n</style>\n<table border=\"1\" class=\"dataframe\">\n  <thead>\n    <tr style=\"text-align: right;\">\n      <th></th>\n      <th>ID_x</th>\n      <th>Neighborhood</th>\n      <th>Existing_Percent</th>\n      <th>FID</th>\n      <th>NAME_x</th>\n      <th>ST_ABBREV_x</th>\n      <th>OBJECTID</th>\n      <th>Mean_am_T_</th>\n      <th>Mean_am_HI</th>\n      <th>Mean_p2_T_</th>\n      <th>Mean_p2_HI</th>\n      <th>Mean_ev_T_</th>\n      <th>Mean_ev_HI</th>\n      <th>Shape__Area</th>\n      <th>Shape__Length</th>\n      <th>TC_ID_y</th>\n      <th>Existing Canopy</th>\n      <th>Possible Canopy Percentage</th>\n      <th>Possible Impervious Canopy Percentage</th>\n    </tr>\n  </thead>\n  <tbody>\n    <tr>\n      <th>0</th>\n      <td>25017342400</td>\n      <td>Everett</td>\n      <td>22.659469</td>\n      <td>1</td>\n      <td>2.501734e+08</td>\n      <td>MA</td>\n      <td>1</td>\n      <td>76.482974</td>\n      <td>77.751982</td>\n      <td>91.487592</td>\n      <td>96.114964</td>\n      <td>85.962991</td>\n      <td>91.129861</td>\n      <td>7041.688232</td>\n      <td>1561.643071</td>\n      <td>1</td>\n      <td>23.025841</td>\n      <td>76.800924</td>\n      <td>63.519561</td>\n    </tr>\n    <tr>\n      <th>1</th>\n      <td>25017350103</td>\n      <td>Somerville</td>\n      <td>0.975328</td>\n      <td>2</td>\n      <td>2.501735e+08</td>\n      <td>MA</td>\n      <td>2</td>\n      <td>76.919924</td>\n      <td>78.148220</td>\n      <td>92.117761</td>\n      <td>97.142557</td>\n      <td>85.983757</td>\n      <td>91.714299</td>\n      <td>62339.388916</td>\n      <td>3873.245327</td>\n      <td>2</td>\n      <td>0.987414</td>\n      <td>47.212343</td>\n      <td>38.928136</td>\n    </tr>\n    <tr>\n      <th>2</th>\n      <td>25017350104</td>\n      <td>Somerville</td>\n      <td>0.000000</td>\n      <td>3</td>\n      <td>2.501735e+08</td>\n      <td>MA</td>\n      <td>3</td>\n      <td>76.828968</td>\n      <td>77.992563</td>\n      <td>91.643324</td>\n      <td>96.959633</td>\n      <td>86.001442</td>\n      <td>91.861055</td>\n      <td>4886.584961</td>\n      <td>363.457910</td>\n      <td>3</td>\n      <td>0.000000</td>\n      <td>0.000000</td>\n      <td>0.000000</td>\n    </tr>\n    <tr>\n      <th>3</th>\n      <td>25017351403</td>\n      <td>Somerville</td>\n      <td>15.070659</td>\n      <td>4</td>\n      <td>2.501735e+08</td>\n      <td>MA</td>\n      <td>4</td>\n      <td>76.654550</td>\n      <td>77.877502</td>\n      <td>91.767997</td>\n      <td>97.197172</td>\n      <td>86.533602</td>\n      <td>91.889832</td>\n      <td>29708.675049</td>\n      <td>1893.664748</td>\n      <td>4</td>\n      <td>15.085379</td>\n      <td>42.433734</td>\n      <td>31.908659</td>\n    </tr>\n    <tr>\n      <th>4</th>\n      <td>25017351404</td>\n      <td>Somerville</td>\n      <td>0.000000</td>\n      <td>5</td>\n      <td>2.501735e+08</td>\n      <td>MA</td>\n      <td>5</td>\n      <td>76.930857</td>\n      <td>78.128606</td>\n      <td>92.116076</td>\n      <td>96.653943</td>\n      <td>85.993484</td>\n      <td>91.292666</td>\n      <td>1499.375977</td>\n      <td>186.413187</td>\n      <td>5</td>\n      <td>0.000000</td>\n      <td>0.000000</td>\n      <td>0.000000</td>\n    </tr>\n  </tbody>\n</table>\n</div>"
     },
     "execution_count": 155,
     "metadata": {},
     "output_type": "execute_result"
    }
   ],
   "source": [
    "final.head()"
   ],
   "metadata": {
    "collapsed": false,
    "pycharm": {
     "name": "#%%\n"
    }
   }
  },
  {
   "cell_type": "code",
   "execution_count": 156,
   "outputs": [],
   "source": [
    "final.to_csv(\"final.csv\")"
   ],
   "metadata": {
    "collapsed": false,
    "pycharm": {
     "name": "#%%\n"
    }
   }
  },
  {
   "cell_type": "code",
   "execution_count": 156,
   "outputs": [],
   "source": [],
   "metadata": {
    "collapsed": false,
    "pycharm": {
     "name": "#%%\n"
    }
   }
  }
 ],
 "metadata": {
  "kernelspec": {
   "display_name": "Python 3 (ipykernel)",
   "language": "python",
   "name": "python3"
  },
  "language_info": {
   "codemirror_mode": {
    "name": "ipython",
    "version": 3
   },
   "file_extension": ".py",
   "mimetype": "text/x-python",
   "name": "python",
   "nbconvert_exporter": "python",
   "pygments_lexer": "ipython3",
   "version": "3.9.12"
  }
 },
 "nbformat": 4,
 "nbformat_minor": 5
}